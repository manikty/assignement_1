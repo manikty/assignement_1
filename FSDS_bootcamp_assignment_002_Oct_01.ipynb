{
 "cells": [
  {
   "cell_type": "markdown",
   "id": "9c27e77a",
   "metadata": {},
   "source": [
    "What is indentation error? Why indentation is important? Give one simple example?"
   ]
  },
  {
   "cell_type": "raw",
   "id": "d4bae676",
   "metadata": {},
   "source": [
    "Answer(1) Indentation is known as space given at the beggining of code in python. However if you will if you negect thesespace it will give you error while running the code.About indentation we can say it gives the better understanding and readabiity of code to the user.for ex-\n",
    " \n",
    " for i in range (len(k)):\n",
    "    print( i)\n",
    " "
   ]
  },
  {
   "cell_type": "code",
   "execution_count": 1,
   "id": "b83ef90c",
   "metadata": {},
   "outputs": [
    {
     "name": "stdout",
     "output_type": "stream",
     "text": [
      "Hey friend, is class started?: [0-False/1-True]1\n",
      "Since class started...\n",
      "Lets concentrate\n"
     ]
    }
   ],
   "source": [
    "##answer_2\n",
    "class_started = bool(input(\"Hey friend, is class started?: [0-False/1-True]\"))\n",
    "\n",
    "if class_started:\n",
    "   print(\"Since class started...\")##here i have considered class has started and i haven given my user input as true \n",
    "   print(\"Lets concentrate\")\n",
    "else:\n",
    "   print(\"Since class is not started...\")\n",
    "   print(\"let's revise\")    "
   ]
  },
  {
   "cell_type": "code",
   "execution_count": 2,
   "id": "c38b2ef2",
   "metadata": {},
   "outputs": [
    {
     "name": "stdout",
     "output_type": "stream",
     "text": [
      "manik\n",
      "its a string\n"
     ]
    }
   ],
   "source": [
    "##answer_3\n",
    "a=input()\n",
    "if a=='manik':\n",
    "    print('its a string')\n",
    "else:\n",
    "    print('i dont know what to say')"
   ]
  },
  {
   "cell_type": "code",
   "execution_count": 5,
   "id": "a9635e5f",
   "metadata": {},
   "outputs": [
    {
     "name": "stdout",
     "output_type": "stream",
     "text": [
      "40\n",
      "50\n",
      "30\n",
      "b is greater 50\n"
     ]
    }
   ],
   "source": [
    "##answer_4\n",
    "a=int(input())\n",
    "b=int(input())\n",
    "c=int(input())\n",
    "if a>b and a>c :\n",
    "    print('a is greater',a)\n",
    "elif b>c:\n",
    "    print('b is greater',b)\n",
    "else:\n",
    "    print('c is greater',c)"
   ]
  },
  {
   "cell_type": "code",
   "execution_count": 6,
   "id": "97d303c8",
   "metadata": {},
   "outputs": [
    {
     "data": {
      "text/plain": [
       "int"
      ]
     },
     "execution_count": 6,
     "metadata": {},
     "output_type": "execute_result"
    }
   ],
   "source": [
    "type(b)"
   ]
  },
  {
   "cell_type": "code",
   "execution_count": 7,
   "id": "cff4482f",
   "metadata": {},
   "outputs": [
    {
     "name": "stdout",
     "output_type": "stream",
     "text": [
      "False\n"
     ]
    }
   ],
   "source": [
    "##answer_5\n",
    "a = 6\n",
    "b = 10\n",
    "print( not ( not a == 10 or not b == 10) )"
   ]
  },
  {
   "cell_type": "code",
   "execution_count": 20,
   "id": "cb7a6d23",
   "metadata": {},
   "outputs": [
    {
     "name": "stdout",
     "output_type": "stream",
     "text": [
      "False\n"
     ]
    }
   ],
   "source": [
    "##answer_6\n",
    "#case_1\n",
    "A = 5.0\n",
    "B = 10/2\n",
    "\n",
    "print(A is B)##a=5.0 and b=10/2 both variabe are float but their variabe is having is having different ids thats why we can say it is saying fase resut however if a=5 and b= 5 and then when we print (a is b )it will be true because in that case the both varriabe will be having same id "
   ]
  },
  {
   "cell_type": "code",
   "execution_count": 25,
   "id": "ed71faee",
   "metadata": {},
   "outputs": [
    {
     "name": "stdout",
     "output_type": "stream",
     "text": [
      "False\n"
     ]
    }
   ],
   "source": [
    "##answer_6\n",
    "#case_2\n",
    "A = 5.0\n",
    "B = int(10/2)\n",
    "print(A is B)##here type of a is float and b is also float but we have changed the type of b from float to int so we can say here it willgive effect to the resut because we have now different  data type  print(A is B)##here type of a is float and b is also float but we have changed the type of b from float to int so we can say here it willgive effect to the resut because we have now different type of varriab print(A is B)##here type of a is float and b is also float but we have changed the type of b from float to int so we can say here it willgive effect to the resut because we have now different type of varriabl "
   ]
  },
  {
   "cell_type": "code",
   "execution_count": 26,
   "id": "3aad57de",
   "metadata": {},
   "outputs": [
    {
     "name": "stdout",
     "output_type": "stream",
     "text": [
      "False\n"
     ]
    }
   ],
   "source": [
    "##answer_6\n",
    "#case_3\n",
    "A = 5.0\n",
    "B = float(10/2)\n",
    "print(A is B)##  in this condition we can say that howeever both data types  are same but still it is stil showing false because when we check the memory A and B both varriales have different id"
   ]
  },
  {
   "cell_type": "code",
   "execution_count": 27,
   "id": "70fdd803",
   "metadata": {},
   "outputs": [
    {
     "name": "stdout",
     "output_type": "stream",
     "text": [
      "26\n",
      "That number is divisible by either by 3 or 5\n"
     ]
    }
   ],
   "source": [
    "##answer_7\n",
    "a=int(input())\n",
    "if a/3 or a/5  :\n",
    "  print('That number is divisible by either by 3 or 5')\n",
    "else :\n",
    "  print('That number is not divisible by either 3 or 5')"
   ]
  },
  {
   "cell_type": "code",
   "execution_count": 28,
   "id": "f3c27125",
   "metadata": {},
   "outputs": [
    {
     "name": "stdout",
     "output_type": "stream",
     "text": [
      "10\n",
      "24\n",
      "area of rectange  240.0\n"
     ]
    }
   ],
   "source": [
    "##answer_8\n",
    "l=float(input())\n",
    "w=float(input())\n",
    "area=l*w\n",
    "print(\"area of rectange \",area)"
   ]
  },
  {
   "cell_type": "code",
   "execution_count": 37,
   "id": "3251b01d",
   "metadata": {},
   "outputs": [
    {
     "name": "stdout",
     "output_type": "stream",
     "text": [
      "area_of_r_2 is greater 379.94\n"
     ]
    }
   ],
   "source": [
    "##answer9\n",
    "r_1=10\n",
    "r_2=11\n",
    "area_of_r_1=3.14*r_1**2\n",
    "area_of_r_2=3.14*r_2**2\n",
    "if area_of_r_1 >area_of_r_2:\n",
    "    print('area_of_r_1 is greater',area_of_r_1)\n",
    "else :\n",
    "    print('area_of_r_2 is greater',area_of_r_2)"
   ]
  },
  {
   "cell_type": "code",
   "execution_count": null,
   "id": "34e72b09",
   "metadata": {},
   "outputs": [],
   "source": []
  }
 ],
 "metadata": {
  "kernelspec": {
   "display_name": "Python 3 (ipykernel)",
   "language": "python",
   "name": "python3"
  },
  "language_info": {
   "codemirror_mode": {
    "name": "ipython",
    "version": 3
   },
   "file_extension": ".py",
   "mimetype": "text/x-python",
   "name": "python",
   "nbconvert_exporter": "python",
   "pygments_lexer": "ipython3",
   "version": "3.9.12"
  }
 },
 "nbformat": 4,
 "nbformat_minor": 5
}
